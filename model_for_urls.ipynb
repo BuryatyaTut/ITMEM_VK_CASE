{
 "cells": [
  {
   "cell_type": "code",
   "execution_count": 1,
   "id": "391e2c88-e039-47d5-8f3d-55b926ec451d",
   "metadata": {},
   "outputs": [
    {
     "name": "stdout",
     "output_type": "stream",
     "text": [
      "Defaulting to user installation because normal site-packages is not writeable\n",
      "Requirement already satisfied: gensim in ./.local/lib/python3.9/site-packages (4.2.0)\n",
      "Requirement already satisfied: numpy>=1.17.0 in /opt/tljh/user/lib/python3.9/site-packages (from gensim) (1.23.2)\n",
      "Requirement already satisfied: scipy>=0.18.1 in /opt/tljh/user/lib/python3.9/site-packages (from gensim) (1.9.0)\n",
      "Requirement already satisfied: smart-open>=1.8.1 in ./.local/lib/python3.9/site-packages (from gensim) (6.1.0)\n"
     ]
    }
   ],
   "source": [
    "!pip install gensim\n",
    "from gensim.models import Word2Vec"
   ]
  },
  {
   "cell_type": "code",
   "execution_count": null,
   "id": "b1d81b58-ff77-4e6a-84e4-1eba0f748bbc",
   "metadata": {},
   "outputs": [],
   "source": [
    "data = np.load('sequences.npy', allow_pickle=True) \n",
    "model = Word2Vec(sentences=data, vector_size=300, window=16, min_count=1, workers=4)\n",
    "model = Word2Vec.save('word2vec.model')"
   ]
  }
 ],
 "metadata": {
  "kernelspec": {
   "display_name": "Python 3 (ipykernel)",
   "language": "python",
   "name": "python3"
  },
  "language_info": {
   "codemirror_mode": {
    "name": "ipython",
    "version": 3
   },
   "file_extension": ".py",
   "mimetype": "text/x-python",
   "name": "python",
   "nbconvert_exporter": "python",
   "pygments_lexer": "ipython3",
   "version": "3.9.7"
  }
 },
 "nbformat": 4,
 "nbformat_minor": 5
}
